{
 "cells": [
  {
   "cell_type": "code",
   "execution_count": null,
   "id": "31f5cb6f",
   "metadata": {},
   "outputs": [],
   "source": [
    "import re\n",
    "import string\n",
    "import numpy as np \n",
    "import random\n",
    "import pandas as pd \n",
    "import matplotlib.pyplot as plt\n",
    "import seaborn as sns\n",
    "%matplotlib inline\n",
    "from plotly import graph_objs as go\n",
    "import plotly.express as px\n",
    "import plotly.figure_factory as ff\n",
    "from collections import Counter\n",
    "\n",
    "from PIL import Image\n",
    "from wordcloud import WordCloud, STOPWORDS, ImageColorGenerator\n",
    "\n",
    "\n",
    "import nltk\n",
    "from nltk.corpus import stopwords\n",
    "\n",
    "from tqdm import tqdm\n",
    "import os\n",
    "import nltk\n",
    "import spacy\n",
    "import random\n",
    "from spacy.util import compounding\n",
    "from spacy.util import minibatch\n",
    "\n",
    "import warnings\n",
    "warnings.filterwarnings(\"ignore\")\n",
    "\n",
    "import os\n",
    "for dirname, _, filenames in os.walk('/kaggle/input'):\n",
    "    for filename in filenames:\n",
    "        print(os.path.join(dirname, filename))\n",
    "\n",
    "# Any results you write to the current directory are saved as output.\n"
   ]
  },
  {
   "cell_type": "code",
   "execution_count": null,
   "id": "6127e7fd",
   "metadata": {},
   "outputs": [],
   "source": [
    "def random_colours(number_of_colors):\n",
    "    '''\n",
    "    Simple function for random colours generation.\n",
    "    Input:\n",
    "        number_of_colors - integer value indicating the number of colours which are going to be generated.\n",
    "    Output:\n",
    "        Color in the following format: ['#E86DA4'] .\n",
    "    '''\n",
    "    colors = []\n",
    "    for i in range(number_of_colors):\n",
    "        colors.append(\"#\"+''.join([random.choice('0123456789ABCDEF') for j in range(6)]))\n",
    "    return colors"
   ]
  },
  {
   "cell_type": "code",
   "execution_count": null,
   "id": "ca4cf4bb",
   "metadata": {},
   "outputs": [],
   "source": [
    "sick_data = pd.read_csv(r\"C:/Users/me1awq/PhD/docsim/datasets/open_source/sick.csv\")"
   ]
  },
  {
   "cell_type": "code",
   "execution_count": null,
   "id": "e00da98b",
   "metadata": {},
   "outputs": [],
   "source": [
    "print(sick_data.shape)\n",
    "print(sick_data.shape)"
   ]
  },
  {
   "cell_type": "code",
   "execution_count": null,
   "id": "935af738",
   "metadata": {},
   "outputs": [],
   "source": [
    "sick_data.info()"
   ]
  },
  {
   "cell_type": "code",
   "execution_count": null,
   "id": "b9f2fd04",
   "metadata": {},
   "outputs": [],
   "source": [
    "sick_data.dropna(inplace=True)"
   ]
  },
  {
   "cell_type": "code",
   "execution_count": null,
   "id": "260cb69e",
   "metadata": {},
   "outputs": [],
   "source": [
    "sick_data.head()"
   ]
  },
  {
   "cell_type": "code",
   "execution_count": null,
   "id": "c7547b28",
   "metadata": {},
   "outputs": [],
   "source": [
    "sick_data.describe()"
   ]
  },
  {
   "cell_type": "code",
   "execution_count": null,
   "id": "bf923f71",
   "metadata": {},
   "outputs": [],
   "source": [
    "temp = sick_data.groupby('entailment_judgment').count()['sentence_A'].reset_index().sort_values(by='sentence_A',ascending=False)\n",
    "temp.style.background_gradient(cmap='Purples')"
   ]
  },
  {
   "cell_type": "code",
   "execution_count": null,
   "id": "5c917b2b",
   "metadata": {},
   "outputs": [],
   "source": [
    "plt.figure(figsize=(12,6))\n",
    "sns.countplot(x='entailment_judgment',data=sick_data)"
   ]
  },
  {
   "cell_type": "code",
   "execution_count": null,
   "id": "4523c520",
   "metadata": {},
   "outputs": [],
   "source": [
    "def jaccard(str1, str2): \n",
    "    a = set(str1.lower().split()) \n",
    "    b = set(str2.lower().split())\n",
    "    c = a.intersection(b)\n",
    "    return float(len(c)) / (len(a) + len(b) - len(c))"
   ]
  },
  {
   "cell_type": "code",
   "execution_count": null,
   "id": "5f69cd61",
   "metadata": {},
   "outputs": [],
   "source": []
  },
  {
   "cell_type": "code",
   "execution_count": null,
   "id": "a05d9457",
   "metadata": {},
   "outputs": [],
   "source": [
    "results_jaccard=[]\n",
    "\n",
    "for ind,row in sick_data.iterrows():\n",
    "    sentence1 = row.sentence_A\n",
    "    sentence2 = row.sentence_B\n",
    "\n",
    "    jaccard_score = jaccard(sentence1,sentence2)\n",
    "    results_jaccard.append([sentence1,sentence2,jaccard_score])"
   ]
  },
  {
   "cell_type": "code",
   "execution_count": null,
   "id": "c7a94591",
   "metadata": {},
   "outputs": [],
   "source": [
    "jaccard = pd.DataFrame(results_jaccard,columns=[\"row.sentence_A\",\"row.sentence_B\",\"jaccard_score\"])\n",
    "sick_data = sick_data.merge(jaccard, how=\"outer\", left_index=True, right_index=True)"
   ]
  },
  {
   "cell_type": "code",
   "execution_count": null,
   "id": "e4e179a4",
   "metadata": {},
   "outputs": [],
   "source": [
    "sick_data['Num_words_Sentence_B'] = sick_data['row.sentence_B'].apply(lambda x:len(str(x).split())) #Number Of words in Sentence B\n",
    "sick_data['Num_words_Sentence_A'] = sick_data['row.sentence_A'].apply(lambda x:len(str(x).split())) #Number Of words in Sentence B\n",
    "sick_data['difference_in_words'] = sick_data['Num_words_Sentence_A'] - sick_data['Num_words_Sentence_B'] #Difference in Number of words text and Selected Text"
   ]
  },
  {
   "cell_type": "code",
   "execution_count": null,
   "id": "869fb010",
   "metadata": {},
   "outputs": [],
   "source": [
    "sick_data.head()"
   ]
  },
  {
   "cell_type": "code",
   "execution_count": null,
   "id": "531709a1",
   "metadata": {},
   "outputs": [],
   "source": [
    "hist_data = [sick_data['Num_words_Sentence_B'],sick_data['Num_words_Sentence_A']]\n",
    "\n",
    "group_labels = ['row.sentence_B', 'row.sentence_A']\n",
    "\n",
    "# Create distplot with custom bin_size\n",
    "fig = ff.create_distplot(hist_data, group_labels,show_curve=False)\n",
    "fig.update_layout(title_text='Distribution of Number Of words')\n",
    "fig.update_layout(\n",
    "    autosize=False,\n",
    "    width=900,\n",
    "    height=700,\n",
    "    paper_bgcolor=\"LightSteelBlue\",\n",
    ")\n",
    "fig.show()"
   ]
  },
  {
   "cell_type": "code",
   "execution_count": null,
   "id": "2ab18611",
   "metadata": {},
   "outputs": [],
   "source": [
    "plt.figure(figsize=(12,6))\n",
    "p1=sns.kdeplot(sick_data['Num_words_Sentence_B'], shade=True, color=\"r\").set_title('Kernel Distribution of Number Of words')\n",
    "p1=sns.kdeplot(sick_data['Num_words_Sentence_A'], shade=True, color=\"b\")"
   ]
  },
  {
   "cell_type": "code",
   "execution_count": null,
   "id": "cbcfc161",
   "metadata": {},
   "outputs": [],
   "source": [
    "plt.figure(figsize=(12,6))\n",
    "p1=sns.kdeplot(sick_data[sick_data['entailment_judgment']=='ENTAILMENT']['difference_in_words'], shade=True, color=\"b\").set_title('Kernel Distribution of Difference in Number Of words')\n",
    "p2=sns.kdeplot(sick_data[sick_data['entailment_judgment']=='CONTRADICTION']['difference_in_words'], shade=True, color=\"r\")\n",
    "p3=sns.kdeplot(sick_data[sick_data['entailment_judgment']=='NEUTRAL']['difference_in_words'], shade=True, color=\"g\")"
   ]
  },
  {
   "cell_type": "code",
   "execution_count": null,
   "id": "5866c7e6",
   "metadata": {},
   "outputs": [],
   "source": [
    "k =sick_data[sick_data['Num_words_Sentence_A']<=20]"
   ]
  },
  {
   "cell_type": "code",
   "execution_count": null,
   "id": "8c361c69",
   "metadata": {},
   "outputs": [],
   "source": [
    "k.groupby('entailment_judgment').mean()['jaccard_score']"
   ]
  },
  {
   "cell_type": "code",
   "execution_count": null,
   "id": "a93a03ee",
   "metadata": {},
   "outputs": [],
   "source": [
    "k[k['entailment_judgment']=='ENTAILMENT']"
   ]
  },
  {
   "cell_type": "code",
   "execution_count": null,
   "id": "faedbd10",
   "metadata": {},
   "outputs": [],
   "source": [
    "def clean_text(text):\n",
    "    '''Make text lowercase, remove text in square brackets,remove links,remove punctuation\n",
    "    and remove words containing numbers.'''\n",
    "    text = str(text).lower()\n",
    "    text = re.sub('\\[.*?\\]', '', text)\n",
    "    text = re.sub('https?://\\S+|www\\.\\S+', '', text)\n",
    "    text = re.sub('<.*?>+', '', text)\n",
    "    text = re.sub('[%s]' % re.escape(string.punctuation), '', text)\n",
    "    text = re.sub('\\n', '', text)\n",
    "    text = re.sub('\\w*\\d\\w*', '', text)\n",
    "    return text"
   ]
  },
  {
   "cell_type": "code",
   "execution_count": null,
   "id": "c1b779b9",
   "metadata": {},
   "outputs": [],
   "source": [
    "sick_data['sentence_A'] = sick_data['sentence_A'].apply(lambda x:clean_text(x))\n",
    "sick_data['sentence_B'] = sick_data['sentence_B'].apply(lambda x:clean_text(x))"
   ]
  },
  {
   "cell_type": "code",
   "execution_count": null,
   "id": "0018b31d",
   "metadata": {},
   "outputs": [],
   "source": [
    "sick_data.head()"
   ]
  },
  {
   "cell_type": "code",
   "execution_count": null,
   "id": "e656a181",
   "metadata": {},
   "outputs": [],
   "source": [
    "sick_data['temp_list'] = sick_data['sentence_B'].apply(lambda x:str(x).split())\n",
    "top = Counter([item for sublist in sick_data['temp_list'] for item in sublist])\n",
    "temp = pd.DataFrame(top.most_common(20))\n",
    "temp.columns = ['Common_words','count']\n",
    "temp.style.background_gradient(cmap='Blues')"
   ]
  },
  {
   "cell_type": "code",
   "execution_count": null,
   "id": "51166aa7",
   "metadata": {},
   "outputs": [],
   "source": [
    "# fig = px.bar(temp, x=\"count\", y=\"Common_words\", title='Commmon Words in sentence_B', orientation='h', \n",
    "#              width=700, height=700,color='Common_words')\n",
    "# fig.show()"
   ]
  },
  {
   "cell_type": "code",
   "execution_count": null,
   "id": "f16455ad",
   "metadata": {},
   "outputs": [],
   "source": [
    "def remove_stopword(x):\n",
    "    return [y for y in x if y not in stopwords.words('english')]\n",
    "sick_data['temp_list'] = sick_data['temp_list'].apply(lambda x:remove_stopword(x))"
   ]
  },
  {
   "cell_type": "code",
   "execution_count": null,
   "id": "103b899d",
   "metadata": {},
   "outputs": [],
   "source": [
    "top = Counter([item for sublist in sick_data['temp_list'] for item in sublist])\n",
    "temp = pd.DataFrame(top.most_common(20))\n",
    "temp = temp.iloc[1:,:]\n",
    "temp.columns = ['Common_words','count']\n",
    "temp.style.background_gradient(cmap='Purples')"
   ]
  },
  {
   "cell_type": "code",
   "execution_count": null,
   "id": "ae3a0795",
   "metadata": {},
   "outputs": [],
   "source": [
    "fig = px.treemap(temp, path=['Common_words'], values='count',title='Tree of Most Common Words')\n",
    "fig.show()"
   ]
  },
  {
   "cell_type": "code",
   "execution_count": null,
   "id": "d8041b08",
   "metadata": {},
   "outputs": [],
   "source": [
    "sick_data['temp_list1'] = sick_data['sentence_A'].apply(lambda x:str(x).split()) #List of words in every row for text\n",
    "sick_data['temp_list1'] = sick_data['temp_list1'].apply(lambda x:remove_stopword(x)) #Removing Stopwords"
   ]
  },
  {
   "cell_type": "code",
   "execution_count": null,
   "id": "20f0a90d",
   "metadata": {},
   "outputs": [],
   "source": [
    "top = Counter([item for sublist in sick_data['temp_list1'] for item in sublist])\n",
    "temp = pd.DataFrame(top.most_common(25))\n",
    "temp = temp.iloc[1:,:]\n",
    "temp.columns = ['Common_words','count']\n",
    "temp.style.background_gradient(cmap='Blues')"
   ]
  },
  {
   "cell_type": "code",
   "execution_count": null,
   "id": "d113468a",
   "metadata": {},
   "outputs": [],
   "source": [
    "fig = px.bar(temp, x=\"count\", y=\"Common_words\", title='Commmon Words in Text', orientation='h', \n",
    "             width=700, height=700,color='Common_words')\n",
    "fig.show()"
   ]
  },
  {
   "cell_type": "code",
   "execution_count": null,
   "id": "f9b36eb0",
   "metadata": {},
   "outputs": [],
   "source": [
    "Positive_sent = sick_data[sick_data['entailment_judgment']=='ENTAILMENT']\n",
    "Negative_sent = sick_data[sick_data['entailment_judgment']=='CONTRADICTION']\n",
    "Neutral_sent = sick_data[sick_data['entailment_judgment']=='NEUTRAL']"
   ]
  },
  {
   "cell_type": "code",
   "execution_count": null,
   "id": "b08d0298",
   "metadata": {},
   "outputs": [],
   "source": [
    "#MosT common positive words\n",
    "top = Counter([item for sublist in Positive_sent['temp_list'] for item in sublist])\n",
    "temp_positive = pd.DataFrame(top.most_common(30))\n",
    "temp_positive.columns = ['Common_words','count']\n",
    "temp_positive.style.background_gradient(cmap='Greens')"
   ]
  },
  {
   "cell_type": "code",
   "execution_count": null,
   "id": "28feb550",
   "metadata": {},
   "outputs": [],
   "source": [
    "fig = px.bar(temp_positive, x=\"count\", y=\"Common_words\", title='Most Commmon Positive Words', orientation='h', \n",
    "             width=700, height=700,color='Common_words')\n",
    "fig.show()"
   ]
  },
  {
   "cell_type": "code",
   "execution_count": null,
   "id": "a7e7d2bf",
   "metadata": {},
   "outputs": [],
   "source": [
    "#MosT common negative words\n",
    "top = Counter([item for sublist in Negative_sent['temp_list'] for item in sublist])\n",
    "temp_negative = pd.DataFrame(top.most_common(20))\n",
    "temp_negative = temp_negative.iloc[1:,:]\n",
    "temp_negative.columns = ['Common_words','count']\n",
    "temp_negative.style.background_gradient(cmap='Reds')"
   ]
  },
  {
   "cell_type": "code",
   "execution_count": null,
   "id": "4c2829f7",
   "metadata": {},
   "outputs": [],
   "source": [
    "fig = px.treemap(temp_negative, path=['Common_words'], values='count',title='Common Contradicting Words')\n",
    "fig.show()"
   ]
  },
  {
   "cell_type": "code",
   "execution_count": null,
   "id": "199f24c5",
   "metadata": {},
   "outputs": [],
   "source": [
    "#MosT common Neutral words\n",
    "top = Counter([item for sublist in Neutral_sent['temp_list'] for item in sublist])\n",
    "temp_neutral = pd.DataFrame(top.most_common(20))\n",
    "temp_neutral = temp_neutral.loc[1:,:]\n",
    "temp_neutral.columns = ['Common_words','count']\n",
    "temp_neutral.style.background_gradient(cmap='Reds')"
   ]
  },
  {
   "cell_type": "code",
   "execution_count": null,
   "id": "5f05f3c2",
   "metadata": {},
   "outputs": [],
   "source": [
    "\n",
    "fig = px.bar(temp_neutral, x=\"count\", y=\"Common_words\", title='Most Commmon Neutral Words', orientation='h', \n",
    "             width=700, height=700,color='Common_words')\n",
    "fig.show()"
   ]
  },
  {
   "cell_type": "code",
   "execution_count": null,
   "id": "050196aa",
   "metadata": {},
   "outputs": [],
   "source": [
    "fig = px.treemap(temp_neutral, path=['Common_words'], values='count',title='Tree Of Most Common Neutral Words')\n",
    "fig.show()"
   ]
  },
  {
   "cell_type": "code",
   "execution_count": null,
   "id": "01d6fe5b",
   "metadata": {},
   "outputs": [],
   "source": [
    "raw_text = [word for word_list in sick_data['temp_list1'] for word in word_list]"
   ]
  },
  {
   "cell_type": "code",
   "execution_count": null,
   "id": "be0ca398",
   "metadata": {},
   "outputs": [],
   "source": [
    "def words_unique(entailment_judgment,numwords,raw_words):\n",
    "    '''\n",
    "    Input:\n",
    "        segment - Segment category (ex. 'Neutral');\n",
    "        numwords - how many specific words do you want to see in the final result; \n",
    "        raw_words - list  for item in train_data[train_data.segments == segments]['temp_list1']:\n",
    "    Output: \n",
    "        dataframe giving information about the name of the specific ingredient and how many times it occurs in the chosen cuisine (in descending order based on their counts)..\n",
    "\n",
    "    '''\n",
    "    allother = []\n",
    "    for item in sick_data[sick_data.entailment_judgment != entailment_judgment]['temp_list1']:\n",
    "        for word in item:\n",
    "            allother.append(word)\n",
    "    allother  = list(set(allother ))\n",
    "    \n",
    "    specificnonly = [x for x in raw_text if x not in allother]\n",
    "    \n",
    "    mycounter = Counter()\n",
    "    \n",
    "    for item in sick_data[sick_data.entailment_judgment == entailment_judgment]['temp_list1']:\n",
    "        for word in item:\n",
    "            mycounter[word] += 1\n",
    "    keep = list(specificnonly)\n",
    "    \n",
    "    for word in list(mycounter):\n",
    "        if word not in keep:\n",
    "            del mycounter[word]\n",
    "    \n",
    "    Unique_words = pd.DataFrame(mycounter.most_common(numwords), columns = ['words','count'])\n",
    "    \n",
    "    return Unique_words"
   ]
  },
  {
   "cell_type": "code",
   "execution_count": null,
   "id": "508a05ff",
   "metadata": {},
   "outputs": [],
   "source": [
    "Unique_Positive= words_unique('ENTAILMENT', 20, raw_text)\n",
    "print(\"The top 20 unique words in Entailment Sentences are:\")\n",
    "Unique_Positive.style.background_gradient(cmap='Greens')"
   ]
  },
  {
   "cell_type": "code",
   "execution_count": null,
   "id": "cde61b78",
   "metadata": {},
   "outputs": [],
   "source": [
    "fig = px.treemap(Unique_Positive, path=['words'], values='count',title='Tree Of Unique Positive Words')\n",
    "fig.show()"
   ]
  },
  {
   "cell_type": "code",
   "execution_count": null,
   "id": "9927f129",
   "metadata": {},
   "outputs": [],
   "source": [
    "Unique_Negative= words_unique('CONTRADICTION', 10, raw_text)\n",
    "print(\"The top 10 unique words in Contradicting Words are:\")\n",
    "Unique_Negative.style.background_gradient(cmap='Reds')"
   ]
  },
  {
   "cell_type": "code",
   "execution_count": null,
   "id": "e416892d",
   "metadata": {},
   "outputs": [],
   "source": [
    "Unique_Neutral= words_unique('NEUTRAL', 10, raw_text)\n",
    "print(\"The top 10 unique words in Neutral Tweets are:\")\n",
    "Unique_Neutral.style.background_gradient(cmap='Oranges')"
   ]
  },
  {
   "cell_type": "code",
   "execution_count": null,
   "id": "60d7045e",
   "metadata": {},
   "outputs": [],
   "source": []
  },
  {
   "cell_type": "code",
   "execution_count": null,
   "id": "36966148",
   "metadata": {},
   "outputs": [],
   "source": []
  }
 ],
 "metadata": {
  "kernelspec": {
   "display_name": "Python 3 (ipykernel)",
   "language": "python",
   "name": "python3"
  },
  "language_info": {
   "codemirror_mode": {
    "name": "ipython",
    "version": 3
   },
   "file_extension": ".py",
   "mimetype": "text/x-python",
   "name": "python",
   "nbconvert_exporter": "python",
   "pygments_lexer": "ipython3",
   "version": "3.8.15"
  }
 },
 "nbformat": 4,
 "nbformat_minor": 5
}
