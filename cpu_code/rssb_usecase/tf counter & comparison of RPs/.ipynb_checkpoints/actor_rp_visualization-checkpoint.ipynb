{
 "cells": [
  {
   "cell_type": "code",
   "execution_count": 1,
   "metadata": {},
   "outputs": [],
   "source": [
    "#importing libraries\n",
    "\n",
    "from collections import Counter\n",
    "from nltk.tokenize import sent_tokenize, word_tokenize\n",
    "import pandas as pd\n",
    "from pandas import DataFrame"
   ]
  },
  {
   "cell_type": "code",
   "execution_count": 2,
   "metadata": {},
   "outputs": [
    {
     "name": "stdout",
     "output_type": "stream",
     "text": [
      "['driver', 'driver', 'driver', 'IM', 'IM', 'IM', 'IM', 'maintenance', 'maintenance', 'maintenance', 'public', 'public', 'public', 'railway workers', 'railway workers', 'railway workforce', 'railway workforce', 'train crew', 'train crew', 'train controller', 'train operating staff']\n"
     ]
    }
   ],
   "source": [
    "#Responsible persons (RPs) for Enterprise Architecture CSV, tokeinzation and printing it in list\n",
    "\n",
    "RPs = []\n",
    "with open ('EA_responsible_person.csv') as file_object:\n",
    "    for trainline in file_object:\n",
    "        tokens_train = sent_tokenize(trainline)\n",
    "        RPs.extend(tokens_train)\n",
    "    print(RPs)"
   ]
  },
  {
   "cell_type": "code",
   "execution_count": 3,
   "metadata": {},
   "outputs": [
    {
     "name": "stdout",
     "output_type": "stream",
     "text": [
      "                       Responsible Person Actors in Enterprise Architecture CSV\n",
      "IM                                                                     4       \n",
      "driver                                                                 3       \n",
      "maintenance                                                            3       \n",
      "public                                                                 3       \n",
      "railway workers                                                        2       \n",
      "railway workforce                                                      2       \n",
      "train controller                                                       1       \n",
      "train crew                                                             2       \n",
      "train operating staff                                                  1       \n"
     ]
    }
   ],
   "source": [
    "# Counter to count the number of times Responsible persons (RPs) repeated in Enterprise Architecture CSV\n",
    "count_RPs = Counter(RPs)\n",
    "df=pd.DataFrame({'Responsible Person Actors in Enterprise Architecture CSV':count_RPs})\n",
    "print(df)"
   ]
  },
  {
   "cell_type": "code",
   "execution_count": 4,
   "metadata": {},
   "outputs": [
    {
     "name": "stdout",
     "output_type": "stream",
     "text": [
      "  Removing Duplicates from Responsible Person Actors in Enterprise Architecture CSV\n",
      "0                                  railway workforce                               \n",
      "1                                             public                               \n",
      "2                              train operating staff                               \n",
      "3                                        maintenance                               \n",
      "4                                         train crew                               \n",
      "5                                                 IM                               \n",
      "6                                   train controller                               \n",
      "7                                    railway workers                               \n",
      "8                                             driver                               \n"
     ]
    }
   ],
   "source": [
    "# To remove duplicate Responsible persons (RPs) from Enterprise Architecture CSV list\n",
    "# set is used to remove duplicate from any list\n",
    "\n",
    "RPs_no_repetition=list(set(RPs))\n",
    "dfs=pd.DataFrame({'Removing Duplicates from Responsible Person Actors in Enterprise Architecture CSV':RPs_no_repetition})\n",
    "print(dfs)"
   ]
  },
  {
   "cell_type": "code",
   "execution_count": 5,
   "metadata": {},
   "outputs": [
    {
     "name": "stdout",
     "output_type": "stream",
     "text": [
      "['driver', 'driver', 'guard', 'signaller', 'driver', 'driver', 'driver', 'driver', 'driver', 'driver', 'driver', 'driver', 'guard', 'driver', 'guard', 'guard (or driver of a DO train)', 'driver', 'driver', 'guard (or driver of a DO train)', 'driver', 'guard (or driver of a DO train)', 'driver', 'guard', 'driver', 'guard', 'driver', 'guard', 'driver', 'driver', 'signaller', 'guard (or driver of a DO train)', 'driver', 'signaller', 'driver', 'driver', 'driver', 'driver', 'driver', 'driver', 'driver', 'signaller', 'driver (assisting train)', 'driver', 'driver (assisting train)', 'driver (assisting train)', 'driver', 'anyone involved', 'anyone involved', 'anyone involved', 'anyone involved', 'signaller', 'signaller', 'driver', 'signaller', 'driver', 'driver', 'signaller', 'signaller', 'signaller', 'driver', 'signaller', 'driver', 'signaller', 'signaller', 'signaller', 'pilotman', 'signaller', 'pilotman', 'signaller', 'pilotman', 'signaller', 'pilotman', 'pilotman', 'pilotman', 'signaller', 'signaller', 'pilotman', 'pilotman', 'signaller', 'pilotman', 'pilotman', 'pilotman', 'pilotman', 'signaller', 'pilotman', 'pilotman', 'signaller', 'pilotman', 'pilotman', 'pilotman', 'pilotman', 'pilotman', 'signaller', 'signaller', 'driver', 'driver', 'driver', 'driver', 'driver', 'driver', 'driver', 'driver', 'pilotman', 'pilotman', 'pilotman', 'signaller', 'signaller', 'pilotman', 'pilotman', 'signaller', 'signaller', 'pilotman', 'signaller', 'signaller', 'pilotman', 'pilotman', 'signaller', 'pilotman', 'signaller', 'signaller', 'pilotman', 'pilotman', 'pilotman', 'pilotman', 'pilotman', 'signaller', 'signaller', 'pilotman', 'driver', 'pilotman', 'pilotman', 'signaller', 'signaller', 'pilotman', 'pilotman', 'signaller', 'pilotman', 'pilotman', 'pilotman', 'pilotman', 'signaller', 'pilotman', 'signaller', 'pilotman', 'pilotman', 'pilotman', 'driver', 'pilotman', 'pilotman', 'driver', 'driver', 'pilotman', 'signaller', 'pilotman', 'signaller', 'pilotman', 'pilotman', 'pilotman', 'pilotman', 'signaller', 'pilotman', 'signaller', 'signaller', 'signaller', 'signaller', 'driver', 'signaller', 'driver', 'signaller', 'driver', 'signaller', 'signaller', 'signaller', 'signaller', 'driver', 'driver', 'driver', 'driver', 'driver', 'driver', 'driver', 'signaller', 'signalling technician', 'signaller', 'signaller', 'signaller', 'signaller', 'signaller', 'signaller', 'guard', 'driver', 'person dispatching train', 'signaller', 'signaller', 'signaller', 'signaller', 'signaller', 'driver', 'driver', 'driver', 'signaller', 'driver', 'driver', 'driver', 'signaller', 'driver', 'driver', 'signaller', 'driver', 'driver', 'signaller', 'driver', 'shunter', 'signaller', 'driver', 'signaller', 'signaller', 'signaller', 'signaller', 'signaller', 'signaller', 'driver', '\"driver', 'shunter\"', 'shunter', 'signaller', 'driver', 'driver', 'driver', 'driver', 'signaller', 'competent person', 'competent person', 'signaller', 'signaller', 'signaller', 'driver', 'driver', 'driver', 'signaller', 'driver', 'driver', 'driver', 'driver', 'driver', 'driver', 'driver', 'driver', 'driver', 'person controlling the movement', 'driver', 'driver', 'person controlling the movement', 'driver', 'signaller', 'person controlling train movements', 'driver', ' person controlling train movements', 'driver', 'driver', 'person controlling train movements', 'driver', 'driver', 'person controlling train movements', 'driver', 'person controlling train movements', 'driver', 'driver', 'person controlling train movements', 'person controlling train movements', 'person controlling train movements', 'driver', 'driver', 'driver', 'driver', 'person controlling train movements', 'driver', 'person controlling train movements', 'person controlling train movements', 'driver', 'driver', 'driver', 'signaller', 'driver', 'driver', 'driver', 'driver', 'driver', 'driver', 'driver', 'signaller', 'driver', 'driver', 'signaller', 'driver', 'signaller', 'driver', 'signaller', 'driver', 'signaller', 'signaller', 'driver', 'driver', 'driver', 'train preparer', 'train preparer', 'driver', 'driver', 'driver', 'signaller', 'driver', 'driver', 'signaller', 'driver', 'signaller', 'driver', 'signaller', 'signaller', 'driver', 'platform staff', 'driver', 'platform staff', 'platform staff', 'guard PIC of platform', 'guard PIC of platform', 'driver', 'guard PIC of platform', 'driver', 'guard platform staff', 'platform staff', 'platform staff', 'platform staff', 'PIC of platform', 'platform staff', 'guard', 'driver', 'guard', 'PIC of platform', 'driver', 'platform staff', 'guard', 'driver', 'platform staff', 'PIC of platform', 'guard', 'driver', 'platform staff', 'PIC of platform', 'guard', 'PIC of platform', 'driver', 'guard', 'driver', 'guard', 'driver', 'platform staff', 'PIC of platform', 'driver', 'platform staff', 'PIC of platform', 'driver', 'driver', 'platform staff', 'PIC of platform', 'guard', 'platform staff', 'PIC of platform', 'guard', 'driver', 'guard', 'driver', 'platform staff', 'PIC of platform', 'platform staff', 'PIC of platform', 'driver', 'platform staff', 'PIC of platform', 'guard', 'driver', 'guard', 'driver', 'platform staff', 'PIC of platform', 'driver', 'shunter', 'shunter', 'shunter', 'shunter', 'driver', 'driver', 'driver', 'shunter', 'shunter', 'shunter', 'shunter', 'driver', 'unaccompanied driver', 'shunter', 'driver', 'shunter', 'shunter', 'driver', 'driver', 'shunter', 'driver', 'shunter', 'shunter', 'unaccompanied driver', 'unaccompanied driver', 'unaccompanied driver', 'unaccompanied driver', 'shunter', 'shunter', 'shunter', 'shunter', 'shunter', 'driver', 'driver', 'driver', 'shunter', 'driver', 'driver', 'unaccompanied driver', 'unaccompanied driver', 'unaccompanied driver', 'unaccompanied driver', 'shunter', 'signaller', 'shunter', 'signaller', 'shunter', 'signaller', 'shunter', 'shunter', 'driver', 'shunter', 'driver', 'shunter', 'driver', 'shunter', 'signaller', 'shunter', 'shunter', 'shunter', 'driver', 'shunter', 'shunter', 'driver', 'driver', 'signaller', 'signaller', 'signaller', 'signaller', 'signaller', 'signaller', 'signaller', 'signaller', 'signaller', 'signaller', 'signaller', 'signaller', 'signaller', 'signaller', 'signaller', 'signaller', 'signaller', 'signaller', 'signaller', 'signaller', 'signaller', 'signaller', 'signaller', 'signaller', 'signaller', 'signaller', 'signaller', 'signaller', 'signaller', 'signaller', 'signaller', 'signaller', 'signaller', 'signaller', 'signaller', 'signaller', 'signaller', 'signaller', 'signaller', 'signaller', 'signaller', 'driver', 'driver', 'driver', 'driver', 'driver', 'driver', 'driver', 'driver', 'driver', 'driver', 'driver', 'DP', 'person working on a rail vehicle', 'person working on a rail vehicle', 'person working on a rail vehicle', 'person working on a rail vehicle', 'person working on a rail vehicle', 'person working on a rail vehicle', 'person working on a rail vehicle', 'DP', 'DP', 'DP', 'DP', 'DP', 'DP', 'DP', 'DP', 'DP', 'DP', 'DP', 'DP', 'DP', 'DP', 'DP', 'DP', 'DP', 'signaller box A', 'signaller box B', 'signaller box C', 'signaller box B', 'signaller box A', 'signaller box A and B', 'All signallers', 'signaller box A', 'signaller box B', 'signaller box A', 'signaller box B', 'signaller box B', 'signaller box A', 'signaller box A and B', 'signaller box B', 'signaller box A and B', 'All signallers', 'signaller A', 'signaller B', 'signaller A', 'signaller B', 'signaller A and B', 'signaller B', 'signaller A and B', 'signaller box A', 'signaller box B', 'signaller box A', 'signaller box A', 'signaller box B', 'signaller box A', 'signaller box B', 'signaller box B', 'signaller box B', 'all signallers', 'signaller box A', 'signaller box B', 'signaller box A', 'signaller box B', 'signaller box A', 'signaller box A', 'signaller box B', 'signaller box A', 'signaller box B', 'signaller box B', 'signaller box A', 'signaller box B', 'signaller box A', 'signaller box B', 'signaller box B', 'signaller box A', 'signaller box B', 'signaller box B', 'signaller box A', 'signaller box A', 'All signallers', 'signaller box D', 'signaller box C', 'signaller box B', 'signaller box B', 'signaller box C', 'signaller box D', 'signaller box C', 'signaller box B', 'signaller box C', 'signaller box D', 'signaller box B', 'signaller box C', 'signaller box D', 'signaller box C', 'signaller box C', 'signaller box B', 'signaller box C', 'signaller box B', 'signaller box C', 'signaller box B', 'signaller box A', 'signaller box B', 'signaller box A', 'signaller box B', 'signaller box A', 'signaller box B', 'signaller box A', 'signaller box A', 'signaller box B', 'All signallers', 'signaller box A', 'signaller box B', 'signaller box A', 'signaller box A', 'signaller box B', 'signaller box B', 'signaller box B', 'signaller box A', 'signaller box B', 'signaller box B', 'signaller box A', 'signaller box B', 'signaller box B', 'signaller box B', 'signaller box A', 'signaller box C', 'signaller box B', 'signaller box A and B', 'signaller box A', 'signaller box B', 'signaller box A and B', 'signaller box B', 'signaller box A and B', 'signaller box A', 'signaller box B', 'signaller box A', 'signaller box B', 'signaller box C', 'signaller box B', 'signaller box B', 'signaller box A and B', 'signaller box B', 'signaller box C', 'signaller box B', 'signaller box C', 'signaller box B and C', 'signaller box B', 'signaller box B', 'signaller box C', 'signaller box A and B', 'signaller box B', 'signaller box C', 'signaller box B', 'signaller box A and B', 'signaller box A and B', 'signaller box A', 'signaller box B', 'signaller box B', 'signaller box A', 'signaller box B', 'signaller box B', 'signaller box A', 'signaller box B', 'signaller box A', 'signaller box B', 'signaller box B', 'signaller box A and B', 'signaller box B', 'signaller box C', 'signaller box B', 'signaller box A', 'signaller box B', 'signaller box A', 'signaller box B', 'signaller box A and B', 'signaller box A and B', 'signaller box B', 'signaller box A and B', 'signaller box A and B', 'signaller box B', 'signaller box A and B', 'signaller box B and C', 'signaller box C', 'signaller box B', 'signaller box A', 'signaller box B', 'signaller box C', 'signaller box B', 'signaller box C', 'signaller box C', 'signaller box B and C', 'signaller box B and C', 'signaller intermediate box', 'signaller box B', 'signaller box C', 'signaller box B', 'signaller box B', 'signaller box B', 'all signallers', 'signaller box B', 'signaller box B', 'signaller box A and C', 'signaller box B', 'signaller box A and C', 'signaller box B', 'signaller box A and C', 'all signallers', 'signaller box B', 'all signallers', 'signaller box B', 'signaller box A and C', 'signaller box A and C', 'signaller box B', 'all signallers', 'signaller box A', 'signaller box B', 'signaller box B', 'signaller box A', 'signaller box B', 'signaller box B', 'signaller box A', 'signaller box B', 'signaller box A', 'signaller box B', 'signaller box A', 'signaller box B', 'all signallers', 'signaller box B', 'signaller box A', 'signaller box B', 'signaller box B', 'signaller box A', 'signaller box B', 'signaller box A', 'signaller box A and B', 'signaller box B', 'signaller box A', 'signaller box B', 'signaller box A', 'signaller box B', 'signaller box A and B', 'signaller box A', 'signaller box B', 'signaller box B', 'signaller box A', 'signaller box B', 'signaller box A', 'signaller box B', 'signaller box B', 'signaller box A and B', 'signaller box C', 'signaller box B', 'signaller box A and B', 'signaller box A and B', 'signaller box B', 'signaller box C', 'signaller box A and B', 'signaller box B', 'signaller box B', 'signaller box C', 'signaller box B', 'signaller box A and B', 'signaller box A and B', 'signaller box A', 'signaller box B', 'signaller box A', 'signaller box A and B', 'signaller box B', 'signaller box A and B', 'signaller box B', 'signaller box C', 'signaller box B', 'signaller box A', 'signaller box B', 'signaller box A', 'signaller box B', 'signaller box A and B', 'signaller box B', 'signaller box B', 'signaller box A', 'signaller box B', 'signaller box B', 'signaller box A and B', 'all signallers', 'all signallers', 'signaller box A and B', 'signaller box A and B', 'signaller box A and B', 'signaller box B', 'signaller box A and B', 'signaller box A and B', 'signaller box A and B', 'signaller box A and B', 'signaller box A and B', 'signaller box A and B', 'signaller box  B', 'signaller box A and B', 'signaller box A', 'signaller box A and B', 'signaller box A and B', 'signaller box B', 'signaller box B', 'all signallers', 'signaller box A', 'signaller box B', 'signaller box B', 'signaller box B', 'signaller box A', 'signaller box B', 'signaller box B', 'all signallers', 'signaller box A', 'signaller box A', 'signaller box A', 'signaller box B', 'signaller box A', 'signaller box A and B', 'signaller box A', 'signaller box B', 'signaller box B', 'signaller box A and B', 'signaller box B', 'signaller box A and B', 'signaller box B', 'signaller box B', 'signaller box C', 'signaller box B', 'signaller box C', 'signaller box A and B', 'signaller box B', 'signaller box C', 'signaller box B', 'signaller box A and B', 'signaller box A and B', 'signaller box A', 'signaller box B', 'signaller box A', 'signaller box A and B', 'signaller box B', 'signaller box A and B', 'signaller box B', 'signaller box C', 'signaller box B', 'signaller box A', 'signaller box B', 'signaller box A and B', 'signaller box B', 'signaller box A and B', 'signaller box A and B', 'signaller box A and B', 'signaller box A and B', 'signaller box A and B', 'signaller box A', 'signaller box B', 'signaller box A and B', 'signaller box B', 'signaller box B', 'driver', 'failed train', 'driver', 'assisting train', 'driver', 'failed train', 'driver', 'guard', 'driver', 'guard', 'guard', 'guard', 'guard', 'guard', 'train preparer', 'train preparer', 'train preparer', 'train preparer', 'train preparer', 'driver', 'driver', 'driver', 'driver', 'driver', 'driver', 'driver', 'driver', 'driver', 'train preparer', 'train preparer', 'train preparer', 'train preparer', 'driver', 'driver', 'driver', 'driver', 'guard', 'guard', 'driver of a DO train', 'guard', 'driver', 'signaller', 'guard', 'driver', 'guard', 'driver of a DO train', 'driver', 'signaller', 'guard', 'driver', 'driver', 'driver', 'driver', 'train preparer', 'driver', 'driver', 'driver', 'driver', 'driver', 'driver', 'driver', 'guard', 'train preparer', 'driver', 'driver', 'driver', 'driver', 'assisting locomotive', 'assisting locomotive', 'driver', 'driver', 'driver', 'driver locomotive on rear', 'driver', 'driver', 'train preparer', 'guard', '\"driver, guard\"', 'driver', 'guard', 'driver of a DO train', 'driver', 'driver', 'driver', 'driver', 'driver', 'guard', 'driver', 'driver', 'guard', 'driver', 'train preparer', 'guard', 'driver', 'guard', 'driver', 'driver', 'shunter', 'signaller', 'driver', 'driver', 'shunter', 'driver', 'shunter', 'driver', 'driver', 'driver', 'driver', 'signaller', 'signaller', 'driver', 'signaller', 'signaller', 'driver', 'signaller', 'driver', 'conductor driver', 'guard', 'driver', 'driver', 'guard', 'guard', 'driver', 'driver', 'driver', 'driver', 'driver', 'driver', 'driver', 'driver', 'driver', 'person in charge', 'driver', 'person in charge', 'driver', 'guard', 'driver of a DO train', 'guard', 'guard', 'guard', 'guard', 'driver', 'driver', 'driver', 'driver', 'driver', 'driver', 'driver', 'driver of a DO train', 'guard', 'driver', 'driver', 'driver', 'driver', 'driver', 'guard', 'driver', 'guard', 'driver', 'signaller', 'driver', 'driver', 'driver', 'signaller', 'driver', 'driver', 'signaller', 'driver', 'driver', 'driver', 'driver', 'driver', 'guard', 'guard', 'guard', 'guard', 'driver', 'driver', 'guard', 'driver', 'driver', 'driver', 'train preparer', 'train preparer', 'driver', 'driver', 'driver', 'driver', 'driver', 'driver', 'driver', 'driver', 'signaller', 'guard', 'signaller', 'signaller', 'signaller', 'driver', 'signaller', 'driver', 'driver', 'driver', 'competent person', 'competent person', 'driver', 'competent person', 'train preparer', 'train preparer', 'train preparer', 'train preparer', 'train preparer', 'train preparer', 'driver', 'driver', 'driver', 'driver', 'driver', 'driver', 'driver', 'driver', 'driver', 'driver', 'driver', 'guard', 'driver of a DO train', 'guard', 'driver', 'driver', 'driver', 'driver of a DO train', 'guard', 'guard', 'driver', '\"driver, guard\"', '\"driver, guard, train preparer\"', '\"driver, guard, train preparer\"', 'driver', '\"guard, driver of a DO train\"', 'driver', 'signaller', 'guard', 'driver', '\"driver, train preparer\"', 'driver', 'driver', '\"driver, train preparer\"', '\"driver, train preparer\"', 'driver', 'driver', 'driver', '\"driver, train preparer\"', 'driver', 'driver', 'competent person', '\"driver, train preparer\"', 'driver', 'guard', 'competent person', 'driver', '\"driver of a DO train, guard\"', 'guard', 'driver', 'competent person', 'signaller', 'guard', 'driver', 'signaller', '\"driver, train preparer\"', '\"driver, train preparer\"', 'signaller', 'driver', 'driver', 'driver', '\"driver of a DO train, guard\"', 'driver', 'signaller', 'signaller', 'driver', 'driver', 'driver', '\"driver of a DO train, guard\"', 'driver', 'signaller', 'driver', '\"driver of a DO train, guard\"', 'driver', 'signaller', '\"driver, train preparer\"', 'driver', '\"driver, train preparer\"', 'driver', '\"driver, train preparer\"', 'driver', '\"driver, train preparer\"', 'driver', 'driver', 'signaller', '\"driver, train preparer\"', 'driver', '\"driver, train preparer\"', '\"driver, train preparer\"', '\"driver, train preparer\"', '\"driver, train preparer\"', '\"driver, signaller\"', 'driver', 'signaller', 'driver', 'signaller', 'driver', '\"driver, train preparer\"', '\"driver, train preparer\"', 'driver', '\"driver of a DO train, guard\"', 'driver', '\"driver, train preparer\"', '\"driver, train preparer\"', '\"driver, signaller\"', 'driver', 'driver', 'signaller', 'driver', '\"driver, signaller\"', '\"driver, signaller, train preparer\"', '\"driver, signaller, train preparer\"', 'driver', 'signaller', 'driver', 'signaller', '\"driver, train preparer\"', '\"driver, guard\"', 'driver', '\"driver, guard\"', 'driver', 'driver', 'driver', 'signaller', '\"driver, guard\"', '\"driver, signaller\"', 'driver', '\"driver, train preparer\"', '\"driver, train preparer\"', 'driver', 'driver', '\"driver, train preparer\"', 'driver', 'signaller', 'signaller', 'signaller', 'driver', 'signaller', 'driver', 'driver', 'driver', 'driver', 'driver', 'driver', 'driver', 'driver', 'driver', 'signaller driver', 'driver', 'signaller', 'signaller signalling technician', 'signaller signalling technician', 'signaller signalling technician', 'signaller', 'signalling technician', 'signaller signalling technician', 'signaller signalling technician', 'signalling technician', 'signaller', 'signalling technician', 'signaller signalling technician', 'signaller', 'signaller', 'signalling technician', 'signaller', 'signaller signalling technician', 'signaller', 'signalling technician', 'signaller', 'signalling technician', 'signaller signalling technician', 'signaller', 'signaller signalling technician', 'signalling technician', 'signaller signalling technician', 'signaller', 'signalling technician', 'signalling technician', 'signaller', 'signalling technician', 'signaller', 'signaller signalling technician', 'signaller signalling technician', 'signaller', 'signalling technician', 'signalling technician', 'signaller signalling technician', 'signaller', 'signalling technician', 'signaller signalling technician', 'signalling technician', 'signaller', 'signaller signalling technician', 'signalling technician', 'signaller signalling technician', 'signaller', 'signaller', 'signalling technician', 'signaller signalling technician', 'signaller', 'signaller', 'signaller', 'signalling technician', 'signaller', 'signalling technician', 'signaller signalling technician', 'signalling technician', 'signaller', 'signaller signalling technician', 'signalling technician', 'signaller', 'signaller signalling technician', 'signalling technician', 'signaller signalling technician', 'signaller', 'signaller', 'signalling technician', 'signaller', 'signaller', 'signaller signalling technician', 'signalling technician', 'signaller', 'signaller signalling technician', 'signalling technician', 'signalling technician', 'signalling technician']\n"
     ]
    }
   ],
   "source": [
    "#Responsible persons (RPs) for OCD lookup(M1,M2,M3,....) CSV, tokeinzation and printing it in list\n",
    "\n",
    "RPs1 = []\n",
    "with open ('OCDlookup_responsible_person.csv') as file_object:\n",
    "    for trainline in file_object:\n",
    "        tokens_train = sent_tokenize(trainline)\n",
    "        RPs1.extend(tokens_train)\n",
    "    print(RPs1)\n"
   ]
  },
  {
   "cell_type": "code",
   "execution_count": 6,
   "metadata": {},
   "outputs": [
    {
     "name": "stdout",
     "output_type": "stream",
     "text": [
      "                                     Responsible Person in OCD Lookup CSV\n",
      " person controlling train movements                                     1\n",
      "\"driver                                                                 1\n",
      "\"driver of a DO train, guard\"                                           5\n",
      "\"driver, guard\"                                                         5\n",
      "\"driver, guard, train preparer\"                                         2\n",
      "\"driver, signaller\"                                                     4\n",
      "\"driver, signaller, train preparer\"                                     2\n",
      "\"driver, train preparer\"                                               24\n",
      "\"guard, driver of a DO train\"                                           1\n",
      "All signallers                                                          4\n",
      "DP                                                                     18\n",
      "PIC of platform                                                        13\n",
      "all signallers                                                         10\n",
      "anyone involved                                                         4\n",
      "assisting locomotive                                                    2\n",
      "assisting train                                                         1\n",
      "competent person                                                        8\n",
      "conductor driver                                                        1\n",
      "driver                                                                369\n",
      "driver (assisting train)                                                3\n",
      "driver locomotive on rear                                               1\n",
      "driver of a DO train                                                    7\n",
      "failed train                                                            2\n",
      "guard                                                                  63\n",
      "guard (or driver of a DO train)                                         4\n",
      "guard PIC of platform                                                   3\n",
      "guard platform staff                                                    1\n",
      "person controlling the movement                                         2\n",
      "person controlling train movements                                     10\n",
      "person dispatching train                                                1\n",
      "person in charge                                                        2\n",
      "person working on a rail vehicle                                        7\n",
      "pilotman                                                               55\n",
      "platform staff                                                         18\n",
      "shunter                                                                38\n",
      "shunter\"                                                                1\n",
      "signaller                                                             203\n",
      "signaller A                                                             2\n",
      "signaller A and B                                                       2\n",
      "signaller B                                                             3\n",
      "signaller box  B                                                        1\n",
      "signaller box A                                                        70\n",
      "signaller box A and B                                                  55\n",
      "signaller box A and C                                                   5\n",
      "signaller box B                                                       141\n",
      "signaller box B and C                                                   4\n",
      "signaller box C                                                        30\n",
      "signaller box D                                                         4\n",
      "signaller driver                                                        1\n",
      "signaller intermediate box                                              1\n",
      "signaller signalling technician                                        23\n",
      "signalling technician                                                  27\n",
      "train preparer                                                         23\n",
      "unaccompanied driver                                                    9\n"
     ]
    }
   ],
   "source": [
    "# Counter to count the number of times Responsible persons (RPs) repeated in in OCD lookup CSV\n",
    "\n",
    "counts = Counter(RPs1)\n",
    "df_OCD=pd.DataFrame({'Responsible Person in OCD Lookup CSV':counts})\n",
    "print(df_OCD)"
   ]
  },
  {
   "cell_type": "code",
   "execution_count": 7,
   "metadata": {
    "scrolled": true
   },
   "outputs": [
    {
     "name": "stdout",
     "output_type": "stream",
     "text": [
      "   Removing Duplicates from Responsible Person OCD lookup CSV\n",
      "0                     \"driver, guard, train preparer\"        \n",
      "1                                     assisting train        \n",
      "2                                unaccompanied driver        \n",
      "3                                             shunter        \n",
      "4                                     anyone involved        \n",
      "5                                 \"driver, signaller\"        \n",
      "6                                     signaller box C        \n",
      "7                                              driver        \n",
      "8                                            shunter\"        \n",
      "9                                           signaller        \n",
      "10                                     all signallers        \n",
      "11                      \"guard, driver of a DO train\"        \n",
      "12                 person controlling train movements        \n",
      "13                                   signaller box  B        \n",
      "14                               assisting locomotive        \n",
      "15                                              guard        \n",
      "16                                                 DP        \n",
      "17                                            \"driver        \n",
      "18                           driver (assisting train)        \n",
      "19                              signaller box B and C        \n",
      "20                                    \"driver, guard\"        \n",
      "21                              guard PIC of platform        \n",
      "22                              signaller box A and B        \n",
      "23                              signaller box A and C        \n",
      "24                           person dispatching train        \n",
      "25                   person working on a rail vehicle        \n",
      "26                 person controlling train movements        \n",
      "27                           \"driver, train preparer\"        \n",
      "28                                        signaller A        \n",
      "29                                   conductor driver        \n",
      "30                                    signaller box B        \n",
      "31                               driver of a DO train        \n",
      "32                         signaller intermediate box        \n",
      "33                                        signaller B        \n",
      "34                              signalling technician        \n",
      "35                                     train preparer        \n",
      "36                                   competent person        \n",
      "37                                   person in charge        \n",
      "38                                     All signallers        \n",
      "39                                       failed train        \n",
      "40                    guard (or driver of a DO train)        \n",
      "41                    person controlling the movement        \n",
      "42                    signaller signalling technician        \n",
      "43                                    PIC of platform        \n",
      "44                                    signaller box A        \n",
      "45                      \"driver of a DO train, guard\"        \n",
      "46                                     platform staff        \n",
      "47                                  signaller A and B        \n",
      "48                                    signaller box D        \n",
      "49                \"driver, signaller, train preparer\"        \n",
      "50                                   signaller driver        \n",
      "51                          driver locomotive on rear        \n",
      "52                               guard platform staff        \n",
      "53                                           pilotman        \n"
     ]
    }
   ],
   "source": [
    "# To remove duplicates from  OCD lookup list\n",
    "\n",
    "RPs1_no_repetition=list(set(RPs1))\n",
    "\n",
    "dfs_OCD=pd.DataFrame({'Removing Duplicates from Responsible Person OCD lookup CSV':RPs1_no_repetition})\n",
    "print(dfs_OCD)"
   ]
  },
  {
   "cell_type": "code",
   "execution_count": 8,
   "metadata": {},
   "outputs": [
    {
     "name": "stdout",
     "output_type": "stream",
     "text": [
      "   Difference between RPs in OCD lookup CSV and Actors in EA CSV\n",
      "0                     \"driver, guard, train preparer\"           \n",
      "1                                     assisting train           \n",
      "2                                unaccompanied driver           \n",
      "3                                             shunter           \n",
      "4                                     anyone involved           \n",
      "5                                 \"driver, signaller\"           \n",
      "6                                     signaller box C           \n",
      "7                                            shunter\"           \n",
      "8                                           signaller           \n",
      "9                                      all signallers           \n",
      "10                      \"guard, driver of a DO train\"           \n",
      "11                 person controlling train movements           \n",
      "12                                   signaller box  B           \n",
      "13                               assisting locomotive           \n",
      "14                                              guard           \n",
      "15                                                 DP           \n",
      "16                                            \"driver           \n",
      "17                           driver (assisting train)           \n",
      "18                              signaller box B and C           \n",
      "19                                    \"driver, guard\"           \n",
      "20                                           pilotman           \n",
      "21                              guard PIC of platform           \n",
      "22                              signaller box A and B           \n",
      "23                              signaller box A and C           \n",
      "24                           person dispatching train           \n",
      "25                   person working on a rail vehicle           \n",
      "26                 person controlling train movements           \n",
      "27                           \"driver, train preparer\"           \n",
      "28                                   conductor driver           \n",
      "29                                    signaller box B           \n",
      "30                               driver of a DO train           \n",
      "31                         signaller intermediate box           \n",
      "32                                        signaller B           \n",
      "33                              signalling technician           \n",
      "34                                     train preparer           \n",
      "35                                   competent person           \n",
      "36                                   person in charge           \n",
      "37                                     All signallers           \n",
      "38                                       failed train           \n",
      "39                    guard (or driver of a DO train)           \n",
      "40                    person controlling the movement           \n",
      "41                    signaller signalling technician           \n",
      "42                                    PIC of platform           \n",
      "43                                    signaller box A           \n",
      "44                      \"driver of a DO train, guard\"           \n",
      "45                                     platform staff           \n",
      "46                                  signaller A and B           \n",
      "47                                    signaller box D           \n",
      "48                \"driver, signaller, train preparer\"           \n",
      "49                                   signaller driver           \n",
      "50                          driver locomotive on rear           \n",
      "51                               guard platform staff           \n",
      "52                                        signaller A           \n"
     ]
    }
   ],
   "source": [
    "# Difference between Responsible Persons (RPs) in OCD lookup list and EA list\n",
    "\n",
    "def Diff(RPs1_no_repetition,RPs_no_repetition):\n",
    "    return (list(set(RPs1_no_repetition)-set(RPs_no_repetition)))\n",
    "#print(\"Differnece between OCD lookup list to EA list=\")\n",
    "#print(Diff(RPs1_no_repetition,RPs_no_repetition))\n",
    "\n",
    "dfs_Diff=pd.DataFrame({'Difference between RPs in OCD lookup CSV and Actors in EA CSV':Diff(RPs1_no_repetition,RPs_no_repetition)})\n",
    "print(dfs_Diff)"
   ]
  },
  {
   "cell_type": "code",
   "execution_count": 9,
   "metadata": {},
   "outputs": [
    {
     "name": "stdout",
     "output_type": "stream",
     "text": [
      "  Matches between RPs in OCD lookup CSV and Actors in EA CSV\n",
      "0                                             driver        \n"
     ]
    }
   ],
   "source": [
    "# Presence of Responsible Persons (RPs) in both OCD lookup list and EA list\n",
    "\n",
    "matches=list(set(RPs_no_repetition) & set(RPs1_no_repetition))\n",
    "#print(\"Matches in both Responsible Persons OCD lookup and EA list are= \")\n",
    "#print(matches)\n",
    "\n",
    "dfs_matches=pd.DataFrame({'Matches between RPs in OCD lookup CSV and Actors in EA CSV':list(set(RPs_no_repetition) & set(RPs1_no_repetition))})\n",
    "print(dfs_matches)\n"
   ]
  },
  {
   "cell_type": "code",
   "execution_count": null,
   "metadata": {},
   "outputs": [],
   "source": []
  }
 ],
 "metadata": {
  "kernelspec": {
   "display_name": "Python 3 (ipykernel)",
   "language": "python",
   "name": "python3"
  },
  "language_info": {
   "codemirror_mode": {
    "name": "ipython",
    "version": 3
   },
   "file_extension": ".py",
   "mimetype": "text/x-python",
   "name": "python",
   "nbconvert_exporter": "python",
   "pygments_lexer": "ipython3",
   "version": "3.8.15"
  }
 },
 "nbformat": 4,
 "nbformat_minor": 2
}
