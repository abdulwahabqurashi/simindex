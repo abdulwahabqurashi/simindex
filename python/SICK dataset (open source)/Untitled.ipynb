{
 "cells": [
  {
   "cell_type": "code",
   "execution_count": 1,
   "metadata": {},
   "outputs": [
    {
     "ename": "ModuleNotFoundError",
     "evalue": "No module named 'numba'",
     "output_type": "error",
     "traceback": [
      "\u001b[1;31m---------------------------------------------------------------------------\u001b[0m",
      "\u001b[1;31mModuleNotFoundError\u001b[0m                       Traceback (most recent call last)",
      "\u001b[1;32m<ipython-input-1-45ade93195d1>\u001b[0m in \u001b[0;36m<module>\u001b[1;34m\u001b[0m\n\u001b[0;32m      1\u001b[0m \u001b[1;32mimport\u001b[0m \u001b[0mnumpy\u001b[0m \u001b[1;32mas\u001b[0m \u001b[0mnp\u001b[0m\u001b[1;33m\u001b[0m\u001b[1;33m\u001b[0m\u001b[0m\n\u001b[0;32m      2\u001b[0m \u001b[1;32mfrom\u001b[0m \u001b[0mtimeit\u001b[0m \u001b[1;32mimport\u001b[0m \u001b[0mdefault_timer\u001b[0m \u001b[1;32mas\u001b[0m \u001b[0mtimer\u001b[0m\u001b[1;33m\u001b[0m\u001b[1;33m\u001b[0m\u001b[0m\n\u001b[1;32m----> 3\u001b[1;33m \u001b[1;32mfrom\u001b[0m \u001b[0mnumba\u001b[0m \u001b[1;32mimport\u001b[0m \u001b[0mvectorize\u001b[0m\u001b[1;33m\u001b[0m\u001b[1;33m\u001b[0m\u001b[0m\n\u001b[0m\u001b[0;32m      4\u001b[0m \u001b[1;33m\u001b[0m\u001b[0m\n\u001b[0;32m      5\u001b[0m \u001b[1;31m# This should be a substantially high value. On my test machine, this took\u001b[0m\u001b[1;33m\u001b[0m\u001b[1;33m\u001b[0m\u001b[1;33m\u001b[0m\u001b[0m\n",
      "\u001b[1;31mModuleNotFoundError\u001b[0m: No module named 'numba'"
     ]
    }
   ],
   "source": [
    "import numpy as np\n",
    "from timeit import default_timer as timer\n",
    "from numba import vectorize\n",
    " \n",
    "# This should be a substantially high value. On my test machine, this took\n",
    "# 33 seconds to run via the CPU and just over 3 seconds on the GPU.\n",
    "NUM_ELEMENTS = 100000000\n",
    " \n",
    "# This is the CPU version.\n",
    "def vector_add_cpu(a, b):\n",
    "  c = np.zeros(NUM_ELEMENTS, dtype=np.float32)\n",
    "  for i in range(NUM_ELEMENTS):\n",
    "    c[i] = a[i] + b[i]\n",
    "  return c\n",
    " \n",
    "# This is the GPU version. Note the @vectorize decorator. This tells\n",
    "# numba to turn this into a GPU vectorized function.\n",
    "@vectorize([\"float32(float32, float32)\"], target='cuda')\n",
    "def vector_add_gpu(a, b):\n",
    "  return a + b;\n",
    " \n",
    "def main():\n",
    "  a_source = np.ones(NUM_ELEMENTS, dtype=np.float32)\n",
    "  b_source = np.ones(NUM_ELEMENTS, dtype=np.float32)\n",
    " \n",
    "  # Time the CPU function\n",
    "  start = timer()\n",
    "  vector_add_cpu(a_source, b_source)\n",
    "  vector_add_cpu_time = timer() - start\n",
    " \n",
    "  # Time the GPU function\n",
    "  start = timer()\n",
    "  vector_add_gpu(a_source, b_source)\n",
    "  vector_add_gpu_time = timer() - start\n",
    " \n",
    "  # Report times\n",
    "  print(\"CPU function took %f seconds.\" % vector_add_cpu_time)\n",
    "  print(\"GPU function took %f seconds.\" % vector_add_gpu_time)\n",
    " \n",
    "  return 0\n",
    " \n",
    "if __name__ == \"__main__\":\n",
    "  main()\n"
   ]
  },
  {
   "cell_type": "code",
   "execution_count": null,
   "metadata": {},
   "outputs": [],
   "source": []
  }
 ],
 "metadata": {
  "kernelspec": {
   "display_name": "Python 3",
   "language": "python",
   "name": "python3"
  },
  "language_info": {
   "codemirror_mode": {
    "name": "ipython",
    "version": 3
   },
   "file_extension": ".py",
   "mimetype": "text/x-python",
   "name": "python",
   "nbconvert_exporter": "python",
   "pygments_lexer": "ipython3",
   "version": "3.7.7"
  }
 },
 "nbformat": 4,
 "nbformat_minor": 4
}
