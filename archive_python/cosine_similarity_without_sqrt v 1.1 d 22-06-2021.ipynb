{
 "cells": [
  {
   "cell_type": "code",
   "execution_count": 1,
   "metadata": {},
   "outputs": [],
   "source": [
    "import time \n",
    "start=time.time()"
   ]
  },
  {
   "cell_type": "code",
   "execution_count": 2,
   "metadata": {},
   "outputs": [
    {
     "name": "stderr",
     "output_type": "stream",
     "text": [
      "[nltk_data] Downloading package punkt to\n",
      "[nltk_data]     C:\\Users\\NR\\AppData\\Roaming\\nltk_data...\n",
      "[nltk_data]   Package punkt is already up-to-date!\n"
     ]
    },
    {
     "data": {
      "text/plain": [
       "True"
      ]
     },
     "execution_count": 2,
     "metadata": {},
     "output_type": "execute_result"
    }
   ],
   "source": [
    "#importing libraries\n",
    "\n",
    "import gensim\n",
    "import numpy as np\n",
    "import nltk\n",
    "from nltk.tokenize import sent_tokenize, word_tokenize\n",
    "import csv\n",
    "import re\n",
    "nltk.download('punkt')"
   ]
  },
  {
   "cell_type": "code",
   "execution_count": 3,
   "metadata": {},
   "outputs": [],
   "source": [
    "#Loading pre=trained word2vec model\n",
    "\n",
    "from gensim.models.keyedvectors import KeyedVectors\n",
    "\n",
    "# You need to dowload google pre-trained model using below link\n",
    "# https://drive.google.com/file/d/0B7XkCwpI5KDYNlNUTTlSS21pQmM/edit\n",
    "#Change the path according to your directory\n",
    "\n",
    "model_path = 'D:\\GoogleNews_vectors_negative300\\GoogleNews_vectors_negative300.bin'   \n",
    "w2v_model = KeyedVectors.load_word2vec_format(model_path, binary=True)"
   ]
  },
  {
   "cell_type": "code",
   "execution_count": 4,
   "metadata": {},
   "outputs": [
    {
     "name": "stdout",
     "output_type": "stream",
     "text": [
      "2.1.3 Controls – Operations under degraded conditions\n",
      "\n",
      "2.1.1.4 - Written operating procedures or spoken instructions when the signalling system cannot be used to preserve the effectiveness of the space interval\n",
      "\n",
      "2.5.2.1 trains not permitted to start journey unless there is sufficient braking capacity\n",
      "\n",
      "2.3.2 Controls – Level Crossings\n",
      "\n",
      "2.6.1.4 Route availability system provides consistent and simple method to assess compatibility of train weight with underlying bridges\n",
      "\n",
      "2.2.1.1 Safety is compromised if a train proceeds without a movement autority\n",
      "\n",
      "2.8.6 Control communication between train drivers and signallers\n",
      "\n"
     ]
    }
   ],
   "source": [
    "# Importing Source Rules or OCD Rulebook CSV file\n",
    "\n",
    "with open ('Target Rules or EA rulebook.csv') as file_object:\n",
    "    for OCDline in file_object:\n",
    "        print(OCDline)"
   ]
  },
  {
   "cell_type": "code",
   "execution_count": 5,
   "metadata": {},
   "outputs": [
    {
     "name": "stdout",
     "output_type": "stream",
     "text": [
      "['2.1.3 Controls – Operations under degraded conditions', '2.1.1.4 - Written operating procedures or spoken instructions when the signalling system cannot be used to preserve the effectiveness of the space interval', '2.5.2.1 trains not permitted to start journey unless there is sufficient braking capacity', '2.3.2 Controls – Level Crossings', '2.6.1.4 Route availability system provides consistent and simple method to assess compatibility of train weight with underlying bridges', '2.2.1.1 Safety is compromised if a train proceeds without a movement autority', '2.8.6 Control communication between train drivers and signallers']\n"
     ]
    }
   ],
   "source": [
    "#Sentences tokenization of Source Rules or OCD Rulebook CSV file\n",
    "\n",
    "target_rules = []\n",
    "with open ('Target Rules or EA rulebook.csv') as file_object:\n",
    "    for trainline in file_object:\n",
    "        tokens_train = sent_tokenize(trainline)\n",
    "        target_rules.extend(tokens_train)\n",
    "\n",
    "    \n",
    "# Searching for text that includes any digits or decimal number. \"\\d\" is looking for digits in tokens\n",
    "\n",
    "withdigits_target_rules=[s for s in target_rules if re.findall(\"^\\d\",s)]\n",
    "print(withdigits_target_rules)"
   ]
  },
  {
   "cell_type": "code",
   "execution_count": 6,
   "metadata": {},
   "outputs": [
    {
     "name": "stdout",
     "output_type": "stream",
     "text": [
      "2.1.3 Controls – Operations under degraded conditions\n",
      "\n",
      "2.1.1.4 Operating procedures using written or spoken instructions are applied when the signalling system cannot be used to preserve the effectiveness of the space interval:\n",
      "\n",
      "2.5.2.1 Trains must not be permitted to start a journey unless there is sufficient braking capacity available for the complete train.  \n",
      "\n",
      "2.3.2 Controls – Level Crossings\n",
      "\n",
      "2.6.1.4 The Route Availability (RA) system provides a consistent and simple method for assessing the compatibility of the weight of rail vehicles with the capacity of underline bridges (other than bridges defined as ‘long span’).\n",
      "\n",
      "2.2.1.1 The safety benefits of a system for maintaining space intervals between trains (see section 2.1 of this operational concept document) are compromised if a train proceeds without an authority for its movement.\n",
      "\n",
      "2.8.6 Controls – railway workforce (Communication between train drivers and signallers)\n",
      "\n"
     ]
    }
   ],
   "source": [
    "# Importing Target Rules or EA Rulebook CSV file\n",
    "\n",
    "with open ('Source rules or OCD rulebook.csv') as file_object:\n",
    "    for EAline in file_object:\n",
    "        print(EAline)"
   ]
  },
  {
   "cell_type": "code",
   "execution_count": 7,
   "metadata": {},
   "outputs": [
    {
     "name": "stdout",
     "output_type": "stream",
     "text": [
      "['2.1.3 Controls – Operations under degraded conditions', '2.1.1.4 Operating procedures using written or spoken instructions are applied when the signalling system cannot be used to preserve the effectiveness of the space interval:', '2.5.2.1 Trains must not be permitted to start a journey unless there is sufficient braking capacity available for the complete train.', '2.3.2 Controls – Level Crossings', '2.6.1.4 The Route Availability (RA) system provides a consistent and simple method for assessing the compatibility of the weight of rail vehicles with the capacity of underline bridges (other than bridges defined as ‘long span’).', '2.2.1.1 The safety benefits of a system for maintaining space intervals between trains (see section 2.1 of this operational concept document) are compromised if a train proceeds without an authority for its movement.', '2.8.6 Controls – railway workforce (Communication between train drivers and signallers)']\n"
     ]
    }
   ],
   "source": [
    "#Sentences tokenization of Target Rules or EA Rulebook CSV file\n",
    "\n",
    "source_rules = []\n",
    "with open ('Source rules or OCD rulebook.csv') as file_object:\n",
    "    for trainline in file_object:\n",
    "        tokens_train = sent_tokenize(trainline)\n",
    "        source_rules.extend(tokens_train)\n",
    "\n",
    "        \n",
    "# Searching for text that includes any digits or decimal number. \"\\d\" is looking for digits in tokens\n",
    "\n",
    "\n",
    "withdigits_source_rules=[s for s in source_rules if re.findall(\"^\\d\",s)]\n",
    "print(withdigits_source_rules)"
   ]
  },
  {
   "cell_type": "code",
   "execution_count": 8,
   "metadata": {},
   "outputs": [],
   "source": [
    "#Setting Parameters for model\n",
    "\n",
    "class DocSim(object):\n",
    "    def __init__(self, w2v_model , stopwords=[]):\n",
    "        self.w2v_model = w2v_model\n",
    "        self.stopwords = stopwords\n",
    "\n",
    "    def vectorize(self, doc):\n",
    "        \"\"\"Identify the vector values for each word in the given document\"\"\"\n",
    "        doc = doc.lower()\n",
    "        words = [w for w in doc.split(\" \") if w not in self.stopwords]\n",
    "        word_vecs = []\n",
    "        for word in words:\n",
    "            try:\n",
    "                vec = self.w2v_model[word]\n",
    "                word_vecs.append(vec)\n",
    "            except KeyError:\n",
    "                # Ignore, if the word doesn't exist in the vocabulary\n",
    "                pass\n",
    "\n",
    "        # Assuming that document vector is the mean of all the word vectors\n",
    "\n",
    "        vector = np.mean(word_vecs, axis=0)\n",
    "        return vector\n",
    "\n",
    "\n",
    "    def _cosine_sim(self, vecA, vecB):\n",
    "        \"\"\"Find the cosine similarity distance between two vectors.\"\"\"\n",
    "        csim=(( np.dot(vecA,vecB) )**2)/((np.linalg.norm(vecA)*np.linalg.norm(vecB))**2)     \n",
    "        if np.isnan(np.sum(csim)):                   #Test element-wise for NaN and return result as a boolean array.\n",
    "            return 0\n",
    "        return csim\n",
    "\n",
    "    def calculate_similarity(self, withdigits_source_rules, withdigits_target_rules=[], threshold=0.4):\n",
    "        \"\"\"Calculates & returns similarity scores between given source rules & all\n",
    "        the target rules\"\"\"\n",
    "        if isinstance(withdigits_target_rules, str):\n",
    "            withdigits_target_rules = [withdigits_target_rules]\n",
    "\n",
    "\n",
    "        source_vec = self.vectorize(withdigits_source_rules)\n",
    "        results = []\n",
    "        \n",
    "        for rule in withdigits_target_rules:\n",
    "            target_vec = self.vectorize(rule)\n",
    "            sim_score = self._cosine_sim(source_vec, target_vec)\n",
    "            if sim_score > threshold:\n",
    "                results.append({\n",
    "                    'Cosine Sim Score':sim_score,\n",
    "                    'Target Rule':rule\n",
    "                })\n",
    "\n",
    "                \n",
    "            # Sort results by score in desc order\n",
    "            results.sort(key=lambda k : k['Cosine Sim Score'] , reverse=True)\n",
    "\n",
    "        return results\n"
   ]
  },
  {
   "cell_type": "code",
   "execution_count": 9,
   "metadata": {},
   "outputs": [],
   "source": [
    "ds = DocSim(w2v_model)"
   ]
  },
  {
   "cell_type": "code",
   "execution_count": 10,
   "metadata": {},
   "outputs": [
    {
     "name": "stdout",
     "output_type": "stream",
     "text": [
      "\n",
      "\n",
      "Source rule: 2.1.3 Controls – Operations under degraded conditions \n",
      "\n",
      "Similarity with Target Rule is \n",
      "\n",
      " [{'Cosine Sim Score': 1.0, 'Target Rule': '2.1.3 Controls – Operations under degraded conditions'}]\n",
      "\n",
      "\n",
      "\n",
      "\n",
      "\n",
      "Source rule: 2.1.1.4 Operating procedures using written or spoken instructions are applied when the signalling system cannot be used to preserve the effectiveness of the space interval: \n",
      "\n",
      "Similarity with Target Rule is \n",
      "\n",
      " [{'Cosine Sim Score': 0.9168542737999658, 'Target Rule': '2.1.1.4 - Written operating procedures or spoken instructions when the signalling system cannot be used to preserve the effectiveness of the space interval'}]\n",
      "\n",
      "\n",
      "\n",
      "\n",
      "\n",
      "Source rule: 2.5.2.1 Trains must not be permitted to start a journey unless there is sufficient braking capacity available for the complete train. \n",
      "\n",
      "Similarity with Target Rule is \n",
      "\n",
      " [{'Cosine Sim Score': 0.8824563091599441, 'Target Rule': '2.5.2.1 trains not permitted to start journey unless there is sufficient braking capacity'}, {'Cosine Sim Score': 0.4697940461374194, 'Target Rule': '2.2.1.1 Safety is compromised if a train proceeds without a movement autority'}, {'Cosine Sim Score': 0.4459751468938149, 'Target Rule': '2.1.1.4 - Written operating procedures or spoken instructions when the signalling system cannot be used to preserve the effectiveness of the space interval'}]\n",
      "\n",
      "\n",
      "\n",
      "\n",
      "\n",
      "Source rule: 2.3.2 Controls – Level Crossings \n",
      "\n",
      "Similarity with Target Rule is \n",
      "\n",
      " [{'Cosine Sim Score': 1.0, 'Target Rule': '2.3.2 Controls – Level Crossings'}]\n",
      "\n",
      "\n",
      "\n",
      "\n",
      "\n",
      "Source rule: 2.6.1.4 The Route Availability (RA) system provides a consistent and simple method for assessing the compatibility of the weight of rail vehicles with the capacity of underline bridges (other than bridges defined as ‘long span’). \n",
      "\n",
      "Similarity with Target Rule is \n",
      "\n",
      " [{'Cosine Sim Score': 0.8140532493190982, 'Target Rule': '2.6.1.4 Route availability system provides consistent and simple method to assess compatibility of train weight with underlying bridges'}, {'Cosine Sim Score': 0.46250376057361553, 'Target Rule': '2.1.1.4 - Written operating procedures or spoken instructions when the signalling system cannot be used to preserve the effectiveness of the space interval'}]\n",
      "\n",
      "\n",
      "\n",
      "\n",
      "\n",
      "Source rule: 2.2.1.1 The safety benefits of a system for maintaining space intervals between trains (see section 2.1 of this operational concept document) are compromised if a train proceeds without an authority for its movement. \n",
      "\n",
      "Similarity with Target Rule is \n",
      "\n",
      " [{'Cosine Sim Score': 0.6610647110721936, 'Target Rule': '2.2.1.1 Safety is compromised if a train proceeds without a movement autority'}, {'Cosine Sim Score': 0.5760430487259162, 'Target Rule': '2.1.1.4 - Written operating procedures or spoken instructions when the signalling system cannot be used to preserve the effectiveness of the space interval'}, {'Cosine Sim Score': 0.5019992858788165, 'Target Rule': '2.5.2.1 trains not permitted to start journey unless there is sufficient braking capacity'}, {'Cosine Sim Score': 0.4820906405168673, 'Target Rule': '2.6.1.4 Route availability system provides consistent and simple method to assess compatibility of train weight with underlying bridges'}]\n",
      "\n",
      "\n",
      "\n",
      "\n",
      "\n",
      "Source rule: 2.8.6 Controls – railway workforce (Communication between train drivers and signallers) \n",
      "\n",
      "Similarity with Target Rule is \n",
      "\n",
      " [{'Cosine Sim Score': 0.6537589890292244, 'Target Rule': '2.8.6 Control communication between train drivers and signallers'}]\n",
      "\n",
      "\n",
      "\n"
     ]
    }
   ],
   "source": [
    "#Calculate the similarity score between a source rule & a target rule.\n",
    "\n",
    "\n",
    "if isinstance(withdigits_source_rules, str):\n",
    "    withdigits_source_rules = [withdigits_source_rules]\n",
    "   \n",
    "\n",
    "# This will return one target rules text with a similarity score\n",
    "\n",
    "for rule in withdigits_source_rules:\n",
    "    sim_scores= ds.calculate_similarity(rule, withdigits_target_rules)\n",
    "\n",
    "    \n",
    "    \n",
    "    # Source Rules are OCD Rules\n",
    "    # Target Rules are EA Rules\n",
    "    \n",
    "    # Printing the output in text file\n",
    "    \n",
    "    print(\"Source rule: {} \\n\\nSimilarity with Target Rule is \\n\\n {}\\n\".format(rule, sim_scores) , file=open(\"output.txt\", \"a\"))\n",
    "    print(\"\\n\")\n",
    "    \n",
    "    \n",
    "    # Printing output in Jupyter\n",
    "    \n",
    "    print(\"Source rule: {} \\n\\nSimilarity with Target Rule is \\n\\n {}\\n\".format(rule, sim_scores) )\n",
    "    print(\"\\n\")"
   ]
  },
  {
   "cell_type": "code",
   "execution_count": 11,
   "metadata": {},
   "outputs": [
    {
     "name": "stdout",
     "output_type": "stream",
     "text": [
      "112.31474256515503\n"
     ]
    }
   ],
   "source": [
    "done=time.time()\n",
    "elapsed=done-start\n",
    "print(elapsed)"
   ]
  },
  {
   "cell_type": "code",
   "execution_count": null,
   "metadata": {},
   "outputs": [],
   "source": []
  }
 ],
 "metadata": {
  "kernelspec": {
   "display_name": "Python 3",
   "language": "python",
   "name": "python3"
  },
  "language_info": {
   "codemirror_mode": {
    "name": "ipython",
    "version": 3
   },
   "file_extension": ".py",
   "mimetype": "text/x-python",
   "name": "python",
   "nbconvert_exporter": "python",
   "pygments_lexer": "ipython3",
   "version": "3.6.13"
  }
 },
 "nbformat": 4,
 "nbformat_minor": 4
}
